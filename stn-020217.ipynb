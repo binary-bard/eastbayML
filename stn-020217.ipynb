{
 "cells": [
  {
   "cell_type": "code",
   "execution_count": null,
   "metadata": {
    "collapsed": false
   },
   "outputs": [],
   "source": [
    "from __future__ import print_function\n",
    "import numpy as np\n",
    "np.random.seed(1337)  # for reproducibility\n",
    "from keras.engine import InputSpec\n",
    "from keras.models import Sequential,Model\n",
    "from keras.layers import Dense, Dropout, Activation, Flatten,Merge,  Input,Layer,merge\n",
    "from keras.layers import Convolution2D, MaxPooling2D\n",
    "from keras.preprocessing.image import ImageDataGenerator\n",
    "import matplotlib.pyplot as plt\n",
    "from attention import SpatialTransformer\n",
    "#from attention import SpatialTransformerLayer"
   ]
  },
  {
   "cell_type": "code",
   "execution_count": null,
   "metadata": {
    "collapsed": false
   },
   "outputs": [],
   "source": [
    "batch_size = 25\n",
    "nb_classes = 9\n",
    "#image_size=(218,303)\n",
    "#input_shape=(3,218,303)\n",
    "\n",
    "#image_shape = (None, 128, 128, 1)\n",
    "#images = Input(shape=image_shape[1:])\n",
    "\n",
    "image_size=(128,128)\n",
    "input_shape=(3,128,128)\n",
    "classes=['bird','bluebird','chicken','cobra','finch','flamingo','frog','ostrich','salamander']\n",
    "cpmap={'n01807496': 'bird', 'n01580077': 'bluebird', 'n01514859': 'chicken',\n",
    "       'n01748264': 'cobra', 'n01601694': 'finch', 'n02007558': 'flamingo',\n",
    "       'n01644373': 'frog', 'n01518878': 'ostrich', 'n01692333': 'salamander'}"
   ]
  },
  {
   "cell_type": "code",
   "execution_count": null,
   "metadata": {
    "collapsed": true
   },
   "outputs": [],
   "source": [
    "nb_epoch = 100\n",
    "nb_filters=32\n",
    "kernel_size=(3,3)\n",
    "pool_size=(2,2)"
   ]
  },
  {
   "cell_type": "code",
   "execution_count": null,
   "metadata": {
    "collapsed": false
   },
   "outputs": [],
   "source": [
    "input_shape=(3,128,128)\n",
    "img = Input(shape=input_shape)\n",
    "\n",
    "# initial weights\n",
    "b = np.zeros((2, 3), dtype='float32')\n",
    "b[0, 0] = 1\n",
    "b[1, 1] = 1\n",
    "W = np.zeros((50, 6), dtype='float32')\n",
    "weights = [W, b.flatten()]\n",
    "\n",
    "modela = Sequential()\n",
    "modela.add(MaxPooling2D(pool_size=(2,2), input_shape=input_shape))\n",
    "print(modela.output_shape)\n",
    "modela.add(Convolution2D(nb_filters, kernel_size[0], kernel_size[1]))\n",
    "print(modela.output_shape)\n",
    "modela.add(Activation('relu'))\n",
    "modela.add(Convolution2D(nb_filters, kernel_size[0], kernel_size[1]))\n",
    "print(modela.output_shape)\n",
    "modela.add(Activation('relu'))\n",
    "modela.add(Flatten())\n",
    "print(modela.output_shape)\n",
    "modela.add(Dense(50))\n",
    "print(modela.output_shape)\n",
    "modela.add(Activation('relu'))\n",
    "modela.add(Dense(6,weights=weights))\n",
    "print(modela.output_shape)\n",
    "\n",
    "modelb = Sequential()\n",
    "modelb.add(SpatialTransformer(modela,input_shape=input_shape))\n",
    "modelb.add(Convolution2D(nb_filters, kernel_size[0], kernel_size[1],\n",
    "                        border_mode='valid'))\n",
    "modelb.add(Activation('relu'))\n",
    "print(modelb.output_shape)\n",
    "modelb.add(Convolution2D(nb_filters, kernel_size[0], kernel_size[1]))\n",
    "modelb.add(Activation('relu'))\n",
    "print(modelb.output_shape)\n",
    "modelb.add(MaxPooling2D(pool_size=pool_size))\n",
    "modelb.add(Convolution2D(nb_filters*2, kernel_size[0], kernel_size[1]))\n",
    "modelb.add(Activation('relu'))\n",
    "modelb.add(MaxPooling2D(pool_size=pool_size))\n",
    "modelb.add(Convolution2D(nb_filters*4, kernel_size[0], kernel_size[1]))\n",
    "modelb.add(Activation('relu'))\n",
    "modelb.add(MaxPooling2D(pool_size=pool_size))\n",
    "print(modelb.output_shape)\n",
    "modelb.add(Dropout(0.25))\n",
    "modelb.add(Flatten())\n",
    "modelb.add(Dense(1280))\n",
    "modelb.add(Activation('relu'))\n",
    "modelb.add(Dropout(0.5))\n",
    "modelb.add(Dense(nb_classes))\n",
    "print(modelb.output_shape)\n",
    "modelb.add(Activation('softmax'))\n",
    "\n",
    "model = Model(input=img, output=modelb(img))\n",
    "\n",
    "#for layer in modela.layers:\n",
    "#    layer.trainable = False\n",
    "    \n",
    "#transformation_model = Model()"
   ]
  },
  {
   "cell_type": "code",
   "execution_count": null,
   "metadata": {
    "collapsed": false
   },
   "outputs": [],
   "source": [
    "# Change this to correct location\n",
    "imagedir = '/data/cs231n'\n",
    "train_datagen = ImageDataGenerator(rescale=1./255)\n",
    "train_generator = train_datagen.flow_from_directory(\n",
    "        imagedir + '/train',\n",
    "        target_size=image_size,\n",
    "        batch_size=batch_size,\n",
    "        class_mode='categorical')\n",
    "val_datagen = ImageDataGenerator(rescale=1./255)\n",
    "val_generator = val_datagen.flow_from_directory(\n",
    "        imagedir + '/val',\n",
    "        target_size=image_size,\n",
    "        batch_size=batch_size,\n",
    "        class_mode='categorical')\n",
    "\n",
    "print(train_generator.class_indices)\n",
    "print(val_generator.class_indices)"
   ]
  },
  {
   "cell_type": "code",
   "execution_count": null,
   "metadata": {
    "collapsed": false
   },
   "outputs": [],
   "source": [
    "from keras.callbacks import History \n",
    "from keras.optimizers import Adadelta\n",
    "#adl = Adadelta(lr=0.8)\n",
    "model.compile(loss='categorical_crossentropy',\n",
    "              optimizer='adam',\n",
    "              metrics=['accuracy'])\n",
    "model.summary()"
   ]
  },
  {
   "cell_type": "code",
   "execution_count": null,
   "metadata": {
    "collapsed": false
   },
   "outputs": [],
   "source": [
    "hist = model.fit_generator(train_generator,samples_per_epoch=1000, nb_epoch=nb_epoch,\n",
    "                    validation_data=val_generator, nb_val_samples=100)"
   ]
  },
  {
   "cell_type": "code",
   "execution_count": null,
   "metadata": {
    "collapsed": false
   },
   "outputs": [],
   "source": [
    "plt.plot(hist.history['loss'])\n",
    "plt.plot(hist.history['val_loss'])\n",
    "plt.show()\n",
    "plt.plot(hist.history['acc'])\n",
    "plt.plot(hist.history['val_acc'])\n",
    "plt.show()"
   ]
  },
  {
   "cell_type": "code",
   "execution_count": null,
   "metadata": {
    "collapsed": false,
    "scrolled": false
   },
   "outputs": [],
   "source": [
    "score = model.evaluate_generator(val_generator, val_samples=100)\n",
    "print('Test score:', score[0])\n",
    "print('Test accuracy:', score[1])"
   ]
  },
  {
   "cell_type": "code",
   "execution_count": null,
   "metadata": {
    "collapsed": false
   },
   "outputs": [],
   "source": [
    "test_datagen = ImageDataGenerator(rescale=1./255)\n",
    "test_generator = test_datagen.flow_from_directory(\n",
    "        imagedir + '/test',\n",
    "        target_size=image_size,\n",
    "        batch_size=batch_size,\n",
    "        shuffle=False,\n",
    "        class_mode=None)\n",
    "pred = model.predict_generator(test_generator, test_generator.nb_sample)"
   ]
  },
  {
   "cell_type": "code",
   "execution_count": null,
   "metadata": {
    "collapsed": false
   },
   "outputs": [],
   "source": [
    "for sub in train_generator.class_indices.keys():\n",
    "    print('%s ==> %s' % (sub, classes[train_generator.class_indices[sub]]))"
   ]
  },
  {
   "cell_type": "code",
   "execution_count": null,
   "metadata": {
    "collapsed": false
   },
   "outputs": [],
   "source": [
    "#indices = np.argmax(pred, axis=1)\n",
    "#print(indices)\n",
    "np.set_printoptions(precision=2, suppress=True)\n",
    "ci1 = 0\n",
    "ci2 = 0\n",
    "ci3 = 0\n",
    "for (f,ids) in zip(test_generator.filenames, pred):\n",
    "    idx = np.argsort(ids)[-1:-4:-1]\n",
    "    pc = classes[idx[0]]\n",
    "    pref = f[4:13:]\n",
    "    ac = cpmap[pref]\n",
    "    if(pc == ac):\n",
    "        ci1 += 1\n",
    "    else:\n",
    "        pc = classes[idx[1]]\n",
    "        if(pc == ac):\n",
    "            ci2 += 1\n",
    "        else:\n",
    "            pc = classes[idx[2]]\n",
    "            if(pc == ac):\n",
    "                ci3 += 1\n",
    "            else:\n",
    "                print(pc, ac)\n",
    "        \n",
    "print(ci1, ci2, ci3)"
   ]
  },
  {
   "cell_type": "code",
   "execution_count": null,
   "metadata": {
    "collapsed": false
   },
   "outputs": [],
   "source": [
    "# serialize model to JSON\n",
    "model_json = model.to_json()\n",
    "with open(\"stn_model.json\", \"w\") as json_file:\n",
    "    json_file.write(model_json)\n",
    "# serialize weights to HDF5\n",
    "model.save_weights(\"stn_model.h5\")\n",
    "print(\"Saved model to disk\")\n",
    "model.save(\"stn_model_whole.h5\")"
   ]
  },
  {
   "cell_type": "code",
   "execution_count": null,
   "metadata": {
    "collapsed": true
   },
   "outputs": [],
   "source": []
  }
 ],
 "metadata": {
  "anaconda-cloud": {},
  "kernelspec": {
   "display_name": "Python [default]",
   "language": "python",
   "name": "python3"
  },
  "language_info": {
   "codemirror_mode": {
    "name": "ipython",
    "version": 3
   },
   "file_extension": ".py",
   "mimetype": "text/x-python",
   "name": "python",
   "nbconvert_exporter": "python",
   "pygments_lexer": "ipython3",
   "version": "3.5.2"
  }
 },
 "nbformat": 4,
 "nbformat_minor": 0
}
